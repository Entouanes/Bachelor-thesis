{
 "cells": [
  {
   "cell_type": "code",
   "execution_count": null,
   "metadata": {},
   "outputs": [],
   "source": [
    "import scanpy as sc\n",
    "import numpy as np\n",
    "import pandas as pd\n",
    "import infercnvpy as cnv\n",
    "import os\n",
    "from anndata import AnnData\n",
    "import matplotlib.pyplot as plt"
   ]
  },
  {
   "cell_type": "code",
   "execution_count": null,
   "metadata": {},
   "outputs": [],
   "source": [
    "cancer='ovarian/'\n",
    "root='/cluster/dataset/boeva/scRNAdata/'\n",
    "annotationsPath=root+'annotations/'+cancer\n",
    "samplesPath=root+'preprocessed/'+cancer+'2022-01-03_10-58-47/samples/'"
   ]
  },
  {
   "cell_type": "code",
   "execution_count": null,
   "metadata": {},
   "outputs": [],
   "source": [
    "sampleIds=['OMAJORO','ONWLE']\n",
    "sampleId=sampleIds[1]\n",
    "annotations=os.listdir(annotationsPath)\n",
    "annotations.remove('cc_genes_2.csv')"
   ]
  },
  {
   "cell_type": "code",
   "execution_count": null,
   "metadata": {},
   "outputs": [],
   "source": [
    "adata=sc.read_h5ad(samplesPath+sampleId+'_adata.h5ad')"
   ]
  },
  {
   "cell_type": "code",
   "execution_count": null,
   "metadata": {},
   "outputs": [],
   "source": [
    "def embeddings_counts(adata: AnnData) -> None:\n",
    "    sc.tl.pca(adata, n_comps=np.min([200, np.min(adata.shape) - 1]))\n",
    "    sc.pp.neighbors(adata)\n",
    "    sc.tl.umap(adata)"
   ]
  },
  {
   "cell_type": "code",
   "execution_count": null,
   "metadata": {},
   "outputs": [],
   "source": [
    "def embeddings_cnv(adata: AnnData) -> None:\n",
    "    cnv.tl.pca(adata, n_comps=np.min([200, np.min(adata.shape) - 1]))\n",
    "    cnv.pp.neighbors(adata)\n",
    "    cnv.tl.umap(adata)\n",
    "    cnv.tl.leiden(adata)"
   ]
  },
  {
   "cell_type": "code",
   "execution_count": null,
   "metadata": {},
   "outputs": [],
   "source": [
    "def get_scores(adata, annotaions):\n",
    "    for name in annotations:\n",
    "        gene_list=pd.read_csv(annotationsPath+name).dropna()\n",
    "        name=name.split('.')[0]\n",
    "        if name=='cc_genes_2':\n",
    "            continue\n",
    "        sc.tl.score_genes(adata, np.array(gene_list[name]), score_name=name)"
   ]
  },
  {
   "cell_type": "code",
   "execution_count": null,
   "metadata": {},
   "outputs": [],
   "source": [
    "def plot_scores_cnv(adata, annotations):\n",
    "    nrow = 3;\n",
    "    ncol = 4;\n",
    "    fig, axs = plt.subplots(nrows = nrow, ncols = ncol, figsize=(30, 21), gridspec_kw=dict(wspace=0.4), dpi=200)\n",
    "\n",
    "    c=0\n",
    "    for ax in axs.reshape(-1):\n",
    "        cnv.pl.umap(adata, color=annotations[c].split('.')[0], ax=ax, show=False, title=annotations[c].split('.')[0]+'_cnv')\n",
    "        c=c+1"
   ]
  },
  {
   "cell_type": "code",
   "execution_count": null,
   "metadata": {},
   "outputs": [],
   "source": [
    "def plot_scores_(adata, annotations):\n",
    "    nrow = 3;\n",
    "    ncol = 4;\n",
    "    fig, axs = plt.subplots(nrows = nrow, ncols = ncol, figsize=(30, 21), gridspec_kw=dict(wspace=0.4), dpi=200)\n",
    "\n",
    "    c=0\n",
    "    for ax in axs.reshape(-1):\n",
    "        sc.pl.umap(adata, color=annotations[c].split('.')[0], ax=ax, show=False)\n",
    "        c=c+1"
   ]
  },
  {
   "cell_type": "code",
   "execution_count": null,
   "metadata": {},
   "outputs": [],
   "source": [
    "adata.raw=adata\n",
    "sc.pp.normalize_per_cell(adata, counts_per_cell_after=1e4)\n",
    "sc.pp.log1p(adata)\n",
    "sc.pp.scale(adata)"
   ]
  },
  {
   "cell_type": "code",
   "execution_count": null,
   "metadata": {},
   "outputs": [],
   "source": [
    "embeddings_cnv(adata)\n",
    "embeddings_counts(adata)"
   ]
  },
  {
   "cell_type": "code",
   "execution_count": null,
   "metadata": {
    "scrolled": true
   },
   "outputs": [],
   "source": [
    "get_scores(adata, annotations)"
   ]
  },
  {
   "cell_type": "code",
   "execution_count": null,
   "metadata": {
    "scrolled": true
   },
   "outputs": [],
   "source": [
    "# No embedding\n",
    "\n",
    "fig, ax = plt.subplots(nrows = 1, ncols = 1, figsize=(4.5, 5), gridspec_kw=dict(wspace=0.4), dpi=200)\n",
    "sc.pl.umap(adata, color='celltype', ax=ax, show=False)\n",
    "plot_scores_(adata, annotations)"
   ]
  },
  {
   "cell_type": "code",
   "execution_count": null,
   "metadata": {
    "scrolled": true
   },
   "outputs": [],
   "source": [
    "# CNV embedding\n",
    "\n",
    "fig, ax = plt.subplots(nrows = 1, ncols = 1, figsize=(4.5, 5), gridspec_kw=dict(wspace=0.4), dpi=200)\n",
    "cnv.pl.umap(adata, color='celltype', ax=ax, show=False)\n",
    "plot_scores_cnv(adata, annotations)"
   ]
  }
 ],
 "metadata": {
  "kernelspec": {
   "display_name": "Python 3",
   "language": "python",
   "name": "python3"
  },
  "language_info": {
   "codemirror_mode": {
    "name": "ipython",
    "version": 3
   },
   "file_extension": ".py",
   "mimetype": "text/x-python",
   "name": "python",
   "nbconvert_exporter": "python",
   "pygments_lexer": "ipython3",
   "version": "3.8.5"
  }
 },
 "nbformat": 4,
 "nbformat_minor": 4
}
