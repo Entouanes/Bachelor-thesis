{
 "cells": [
  {
   "cell_type": "code",
   "execution_count": 1,
   "metadata": {},
   "outputs": [],
   "source": [
    "import os\n",
    "import shutil\n",
    "import pandas as pd\n",
    "import numpy as np\n",
    "import matplotlib.pyplot as plt "
   ]
  },
  {
   "cell_type": "markdown",
   "metadata": {},
   "source": [
    "### Initialization"
   ]
  },
  {
   "cell_type": "code",
   "execution_count": 2,
   "metadata": {},
   "outputs": [],
   "source": [
    "# Paths\n",
    "root = '/cluster/dataset/tumorp/data_repository/metadata/gyn'\n",
    "study = '/cluster/dataset/tumorp/data_repository/study'\n",
    "path_scRNA_Analysis = '/datasets/scRNA_Analysis.csv'\n",
    "path_Participants = '/datasets/Participants.csv'\n",
    "path_OvarianCancer_sample = '/samplesets/OvarianCancer_Samples.csv'\n",
    "excluded = ['OPELICI']"
   ]
  },
  {
   "cell_type": "code",
   "execution_count": 3,
   "metadata": {},
   "outputs": [],
   "source": [
    "# Dataframes\n",
    "scRNA_Analysis = pd.read_csv(root + path_scRNA_Analysis)\n",
    "Participants = pd.read_csv(root + path_Participants)\n",
    "OvarianCancer_sample = pd.read_csv(root + path_OvarianCancer_sample)"
   ]
  },
  {
   "cell_type": "markdown",
   "metadata": {},
   "source": [
    "# Select candidates\n",
    "The candidates are the sample with the latest available 'Run' (pass) and sequencing version (note: the sequencing version should be 7.8 accross all sample to stay consistent, otherwise differences in technologies might introduce biases)"
   ]
  },
  {
   "cell_type": "code",
   "execution_count": 4,
   "metadata": {},
   "outputs": [],
   "source": [
    "scRNA_Analysis_ = scRNA_Analysis[scRNA_Analysis['scOmicsSample'].str.startswith('O')]"
   ]
  },
  {
   "cell_type": "code",
   "execution_count": 5,
   "metadata": {},
   "outputs": [],
   "source": [
    "run = scRNA_Analysis_.groupby(['scOmicsSample'])['Run'].max()\n",
    "sop = scRNA_Analysis_.groupby(['scOmicsSample'])['SopVersion'].max()\n",
    "tmp = np.array(scRNA_Analysis_)"
   ]
  },
  {
   "cell_type": "code",
   "execution_count": 6,
   "metadata": {},
   "outputs": [],
   "source": [
    "arr = []\n",
    "for i in range(len(tmp)):\n",
    "    scomics=tmp[i][11]\n",
    "    SopV=tmp[i][5]\n",
    "    Run=tmp[i][7]\n",
    "    if Run==run[scomics] and SopV==sop[scomics]:\n",
    "        arr.append(tmp[i])\n",
    "        \n",
    "arr=np.array(arr)\n",
    "preprocessing_candidates = pd.DataFrame(arr, columns=scRNA_Analysis_.columns).drop(\"Unnamed: 0\",axis=1)"
   ]
  },
  {
   "cell_type": "markdown",
   "metadata": {},
   "source": [
    "# Select existing sample\n",
    "All candidates do not find corresponding samples on the TuPro database, for unknown reasons that shall be investigated. We keep only the candidates for which a \".h5\" file exists in the TuPro study"
   ]
  },
  {
   "cell_type": "code",
   "execution_count": 7,
   "metadata": {
    "scrolled": false
   },
   "outputs": [],
   "source": [
    "sample_paths = []\n",
    "annotations_paths = []\n",
    "OC_dataset = []\n",
    "\n",
    "for i in range(len(arr)):\n",
    "    participant_id = arr[i][9]\n",
    "    name = arr[i][8]\n",
    "    sample_id = arr[i][11].split(\"-\")[0]\n",
    "    n_pass = scRNA_Analysis[scRNA_Analysis['scOmicsSample']==arr[i][11]].shape[0]\n",
    "    if excluded.count(sample_id) <= 0:\n",
    "        curr_path = study + '/' + participant_id + '/' + sample_id + '/scRNA/derived/pass_' + str(n_pass)\n",
    "        sPath = curr_path + '/' + name + '__raw.h5'\n",
    "        aPath = curr_path + '/' + name + '__cts_final.txt'\n",
    "        \n",
    "        if os.path.exists(sPath) and os.path.exists(aPath):\n",
    "            OC_dataset.append(np.ndarray.tolist(arr[i])+[sPath, aPath])"
   ]
  },
  {
   "cell_type": "code",
   "execution_count": 8,
   "metadata": {},
   "outputs": [],
   "source": [
    "OC_dataset=pd.DataFrame(np.array(OC_dataset), columns=np.ndarray.tolist(np.array(scRNA_Analysis.columns)) + ['sample_path', 'annotation_path'])"
   ]
  },
  {
   "cell_type": "markdown",
   "metadata": {},
   "source": [
    "# Gather information about dataset\n",
    "Finally a few measures are computed in order to characterize features for the Ovarian Cancer (OC) dataset that shall be preprocessed in later steps"
   ]
  },
  {
   "cell_type": "code",
   "execution_count": 9,
   "metadata": {
    "scrolled": true
   },
   "outputs": [],
   "source": [
    "oc = OvarianCancer_sample.groupby(by=['ParticipantID', 'Name', 'SampleType', 'Notes', 'LabOrigin', 'Location']).mean()"
   ]
  },
  {
   "cell_type": "code",
   "execution_count": 10,
   "metadata": {},
   "outputs": [],
   "source": [
    "values_1=np.array([np.asarray(i) for i in oc.index])\n",
    "values_2=np.array(oc.iloc[:,1:])"
   ]
  },
  {
   "cell_type": "code",
   "execution_count": 11,
   "metadata": {},
   "outputs": [],
   "source": [
    "assert values_1.shape[0]==values_2.shape[0]\n",
    "\n",
    "tmp = []\n",
    "for i in range(values_1.shape[0]):\n",
    "    tmp.append(list(values_1[i])+list(values_2[i]))\n",
    "\n",
    "tmp = np.array(tmp)\n",
    "tmp=pd.DataFrame(tmp, columns=['ParticipantId', 'Name', 'SampleType', 'Notes', 'LabOrigin', 'Location', 'RowId', 'TumorContent', 'VitalTumorCells'])"
   ]
  },
  {
   "cell_type": "code",
   "execution_count": 12,
   "metadata": {},
   "outputs": [],
   "source": [
    "tmp_1 = np.array(tmp)\n",
    "tmp_2 = np.array(OC_dataset)\n",
    "tmp_3 = np.array(Participants)"
   ]
  },
  {
   "cell_type": "code",
   "execution_count": 13,
   "metadata": {},
   "outputs": [],
   "source": [
    "OC_dataset_info=[]\n",
    "for i in range(tmp_2.shape[0]):\n",
    "    hit_1=False\n",
    "    idx_1=-1\n",
    "    hit_2=False\n",
    "    idx_2=-1\n",
    "    \n",
    "    \n",
    "    for j in range(tmp_1.shape[0]):\n",
    "        if tmp_2[i][9]==tmp_1[j][0] and tmp_2[i][11].split('-')[0]==tmp_1[j][1]:\n",
    "            hit_1=True\n",
    "            idx_1=j\n",
    "    for j in range(tmp_3.shape[0]):\n",
    "        if tmp_2[i][9]==tmp_3[j][10]:\n",
    "            hit_2=True\n",
    "            idx_2=j\n",
    "    \n",
    "    if hit_1 and hit_2:\n",
    "        OC_dataset_info.append(list(tmp_2[i])+list(tmp_1[idx_1])+list(tmp_3[idx_2]))\n",
    "    elif hit_1:\n",
    "        a=np.empty(tmp_3.shape[1])\n",
    "        a[:]=np.NaN\n",
    "        OC_dataset_info.append(list(tmp_2[i])+list(tmp_1[idx_1])+list(a))\n",
    "    elif hit_2:\n",
    "        a=np.empty(tmp_1.shape[1])\n",
    "        a[:]=np.NaN\n",
    "        OC_dataset_info.append(list(tmp_2[i])+list(a)+list(tmp_3[idx_2]))\n",
    "    else:\n",
    "        a=np.empty(tmp_1.shape[1])\n",
    "        b=np.empty(tmp_3.shape[1])\n",
    "        a[:]=np.NaN\n",
    "        b[:]=np.NaN\n",
    "        OC_dataset_info.append(list(tmp_2[i])+list(a)+list(b))\n",
    "    \n",
    " \n",
    "\n",
    "\n",
    "OC_dataset_info=np.array(OC_dataset_info)\n",
    "OC_dataset_info=pd.DataFrame(OC_dataset_info, columns=list(OC_dataset)+list(tmp)+list(Participants))"
   ]
  },
  {
   "cell_type": "code",
   "execution_count": 14,
   "metadata": {
    "scrolled": true
   },
   "outputs": [],
   "source": [
    "relevant=[9,11,36,47,37,24,27,25,51,29,38,49,26,20]\n",
    "OC_final=OC_dataset_info.iloc[:,relevant]"
   ]
  },
  {
   "cell_type": "markdown",
   "metadata": {},
   "source": [
    "# Calculate some statistics about dataset\n",
    "We establish the nature of the samples, if we have relevant information about them"
   ]
  },
  {
   "cell_type": "code",
   "execution_count": 15,
   "metadata": {},
   "outputs": [],
   "source": [
    "def get(column):\n",
    "    labels=np.array(OC_final.groupby([column]).count().index)\n",
    "    values=np.array(OC_final.groupby([column]).count().iloc[:,0])\n",
    "    \n",
    "    return [labels, values]"
   ]
  },
  {
   "cell_type": "code",
   "execution_count": 16,
   "metadata": {},
   "outputs": [],
   "source": [
    "def plot_pie(title,labels, data):\n",
    "    # Plot charts\n",
    "    plt.figure(figsize=(4, 8), constrained_layout=True, dpi=300)\n",
    "    plt.pie(data, autopct='%1.f%%')\n",
    "    plt.legend(labels=labels)\n",
    "    plt.title(title)\n",
    "\n",
    "    plt.savefig('/cluster/home/antoinco/outputs/stats/'+title+'.png')"
   ]
  },
  {
   "cell_type": "code",
   "execution_count": 17,
   "metadata": {},
   "outputs": [],
   "source": [
    "def print_stats(title, labels, data):\n",
    "    print(title)\n",
    "    print('-'*len(title)*2)\n",
    "    dist=-1\n",
    "    for i in labels:\n",
    "        dist=max(dist, len(labels))\n",
    "    for i in range(len(labels)):\n",
    "        print(str(labels[i]) + ': ' + str(data[i]))\n",
    "        \n",
    "    print('')"
   ]
  },
  {
   "cell_type": "code",
   "execution_count": 18,
   "metadata": {},
   "outputs": [],
   "source": [
    "information=[\n",
    "    'SampleType',\n",
    "    'Location',\n",
    "    'Indication',\n",
    "    'Stage',\n",
    "    'SiteOfPrimaryTumor',\n",
    "    'AgeRange']"
   ]
  },
  {
   "cell_type": "code",
   "execution_count": 19,
   "metadata": {
    "scrolled": true
   },
   "outputs": [
    {
     "name": "stdout",
     "output_type": "stream",
     "text": [
      "SampleType\n",
      "--------------------\n",
      "metastasis: 27\n",
      "nan: 17\n",
      "primary tumor: 4\n",
      "\n",
      "Location\n",
      "----------------\n",
      "lymph node: 2\n",
      "nan: 17\n",
      "omentum: 18\n",
      "ovary: 3\n",
      "peritoneum: 1\n",
      "unknown: 7\n",
      "\n",
      "Indication\n",
      "--------------------\n",
      "Ovarian Cancer: 1\n",
      "OvarianCancer: 46\n",
      "TubalCancer: 1\n",
      "\n",
      "Stage\n",
      "----------\n",
      "FIGO IV: 1\n",
      "III: 1\n",
      "IIIC: 5\n",
      "IV: 3\n",
      "at least FIGO III: 1\n",
      "nan: 37\n",
      "\n",
      "SiteOfPrimaryTumor\n",
      "------------------------------------\n",
      "OVARIAN: 1\n",
      "Ovary: 5\n",
      "Ovary/Tube: 1\n",
      "nan: 6\n",
      "ovary: 23\n",
      "ovary or peritoneum: 1\n",
      "peritoneum: 2\n",
      "tube: 1\n",
      "unknown: 8\n",
      "\n",
      "AgeRange\n",
      "----------------\n",
      "40-49: 2\n",
      "50-59: 13\n",
      "60-69: 10\n",
      "70-79: 13\n",
      "80-89: 7\n",
      "90-99: 1\n",
      "nan: 2\n",
      "\n"
     ]
    }
   ],
   "source": [
    "for info in information:\n",
    "    data=get(info)\n",
    "    # print_stats(info, data[0], data[1])\n",
    "    # plot_pie(info, data[0], data[1])"
   ]
  },
  {
   "cell_type": "code",
   "execution_count": null,
   "metadata": {},
   "outputs": [],
   "source": []
  }
 ],
 "metadata": {
  "kernelspec": {
   "display_name": "Python 3",
   "language": "python",
   "name": "python3"
  },
  "language_info": {
   "codemirror_mode": {
    "name": "ipython",
    "version": 3
   },
   "file_extension": ".py",
   "mimetype": "text/x-python",
   "name": "python",
   "nbconvert_exporter": "python",
   "pygments_lexer": "ipython3",
   "version": "3.8.5"
  }
 },
 "nbformat": 4,
 "nbformat_minor": 4
}
